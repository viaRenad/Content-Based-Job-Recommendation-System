{
  "cells": [
    {
      "cell_type": "markdown",
      "id": "594f6e51-e89f-456c-a667-2e769b63c156",
      "metadata": {
        "id": "594f6e51-e89f-456c-a667-2e769b63c156"
      },
      "source": [
        "**<h1 style=\"color:blue;\">Content-Based Job Recommendation System</h1>**"
      ]
    },
    {
      "cell_type": "markdown",
      "id": "ea15ad50-11d8-43b4-b613-239c26f905aa",
      "metadata": {
        "id": "ea15ad50-11d8-43b4-b613-239c26f905aa"
      },
      "source": [
        "# **1. Problem Understanding and Research**  \n",
        "\n",
        "### **1.1 Introduction**  \n",
        "In today’s dynamic job market, individuals often struggle to find jobs that accurately align with their **skills and expertise**. Traditional job search engines rely on **keyword-based filtering**, which often fails to capture **semantic relevance** between a job description and a candidate’s profile.  \n",
        "\n",
        "To bridge this gap, we develop a **Content-Based Job Recommendation System** that suggests the **top 5 most relevant job postings** based on a user’s input skills. This system utilizes **TF-IDF (Term Frequency-Inverse Document Frequency)** for textual representation and **Cosine Similarity** for ranking job recommendations.\n",
        "\n",
        "We used two different dataset sizes: a sample of 5000 records and the full dataset. This approach allowed us to analyze the impact of dataset size on the quality of TF-IDF calculations and similarity measurements between job descriptions and skills\n",
        "\n",
        "\n",
        "### **1.2 Objective**  \n",
        "The primary objective of this project is to build an **efficient job recommendation system** using **TF-IDF vectorization** and **Cosine Similarity**. By analyzing the **textual content** of job descriptions and matching them with the user’s skills, we aim to **improve job search accuracy** beyond simple keyword matching.\n",
        "\n",
        "\n",
        "### **1.3 Approach**  \n",
        "Our approach consists of the following key steps:\n",
        "\n",
        "1. **Data Preprocessing** – Cleaning job descriptions, removing stopwords, and standardizing text.  \n",
        "2. **TF-IDF Feature Extraction** – Converting job descriptions into **numerical vector representations** using TF-IDF.  \n",
        "3. **Similarity Computation** – Comparing the user’s inputted skills with job postings using **Cosine Similarity**.  \n",
        "4. **Job Recommendation System** – Ranking job postings based on similarity scores and returning the **top 5 most relevant jobs**.  \n",
        "5. **Evaluation** – Assessing the system’s effectiveness in recommending meaningful job matches using **Precision@5**.  \n",
        "\n",
        "\n",
        "### **1.4 Notebook Structure**  \n",
        "This notebook is structured into the following sections:\n",
        "\n",
        "- **Data Preprocessing:** Cleaning and preparing job postings for analysis.  \n",
        "- **TF-IDF Representation:** Transforming job descriptions into TF-IDF vectors.  \n",
        "- **Cosine Similarity Computation:** Finding the closest job matches based on user input.  \n",
        "- **Recommendation System Implementation:** Returning the **top 5 job recommendations**.  \n",
        "- **Evaluation (Precision@5):** Measuring the accuracy of job recommendations by calculating how often the correct job appears in the **top 5 results**.\n",
        "\n",
        "By implementing this **TF-IDF-based approach**, we ensure a **lightweight, fast, and interpretable** recommendation system suitable for large-scale job datasets.\n"
      ]
    },
    {
      "cell_type": "markdown",
      "source": [
        "# **2. Data Preparation and Preprocessing**\n",
        "\n",
        "### **2.1 Import Necessary Libraries**  \n",
        "Before proceeding, we need to install and import the required libraries.\n",
        "\n",
        "### If running for the first time, install the following libraries by uncommenting and executing the lines below:"
      ],
      "metadata": {
        "id": "k7y8xEDA-QkF"
      },
      "id": "k7y8xEDA-QkF"
    },
    {
      "cell_type": "code",
      "execution_count": null,
      "id": "0ba934a3-9f1a-4066-ad76-409085c8a712",
      "metadata": {
        "id": "0ba934a3-9f1a-4066-ad76-409085c8a712"
      },
      "outputs": [],
      "source": [
        "## First time required additional intalls only\n",
        "# !pip install sentence-transformers\n",
        "# !pip install nltk\n",
        "# !pip install pandas"
      ]
    },
    {
      "cell_type": "markdown",
      "source": [
        "### The following libraries are essential for **data preprocessing and NLP**:\n",
        "\n",
        "### - **pandas**: For handling structured data.\n",
        "### - **numpy**: For numerical computations.\n",
        "### - **nltk**: For natural language processing (e.g., stopword removal).\n",
        "### - **re**: For text cleaning using regular expressions."
      ],
      "metadata": {
        "id": "RHXsWr71-bSP"
      },
      "id": "RHXsWr71-bSP"
    },
    {
      "cell_type": "code",
      "execution_count": 1,
      "id": "60dabfea-5b8e-4546-afed-14d3cc64c6cd",
      "metadata": {
        "colab": {
          "base_uri": "https://localhost:8080/"
        },
        "id": "60dabfea-5b8e-4546-afed-14d3cc64c6cd",
        "outputId": "18feb5c0-e43a-48cf-e8c6-f39050e6e5f5"
      },
      "outputs": [
        {
          "output_type": "stream",
          "name": "stdout",
          "text": [
            "Libraries loaded successfully!\n"
          ]
        },
        {
          "output_type": "stream",
          "name": "stderr",
          "text": [
            "[nltk_data] Downloading package stopwords to /root/nltk_data...\n",
            "[nltk_data]   Package stopwords is already up-to-date!\n"
          ]
        }
      ],
      "source": [
        "# Installed sentence-transformers for easy transformer-based text embeddings.\n",
        "# nltk for text preprocessing (stopword removal, lemmatization).\n",
        "# pandas and numpy for data handling.\n",
        "\n",
        "import pandas as pd\n",
        "import numpy as np\n",
        "import nltk\n",
        "import re\n",
        "\n",
        "from nltk.corpus import stopwords\n",
        "nltk.download('stopwords')\n",
        "stop_words = set(stopwords.words('english'))\n",
        "\n",
        "print(\"Libraries loaded successfully!\")"
      ]
    },
    {
      "cell_type": "markdown",
      "id": "98a8ab12-8598-44b2-8936-789d04581d05",
      "metadata": {
        "id": "98a8ab12-8598-44b2-8936-789d04581d05"
      },
      "source": [
        "### **2.2 Load and Merge the Dataset**  \n",
        "\n",
        "To build an effective **job recommendation system**, we need to integrate multiple datasets that contain **job postings** and their respective **required skills**. This section focuses on loading, merging, and refining the data.  \n",
        "\n",
        "#### **A. Loading Data**  \n",
        "- We first **mount Google Drive** to access stored datasets.  \n",
        "- Two CSV files are read into Pandas DataFrames:  \n",
        "  - **`linkedin_job_postings.csv`** – Contains job postings, including job titles and descriptions.  \n",
        "  - **`job_skills.csv`** – Lists the required skills associated with each job.  \n",
        "- A quick preview of the first two rows from both datasets confirms successful loading.  "
      ]
    },
    {
      "cell_type": "code",
      "source": [
        "from google.colab import drive\n",
        "drive.mount('/content/drive')"
      ],
      "metadata": {
        "colab": {
          "base_uri": "https://localhost:8080/"
        },
        "id": "ho6O-8I9d_nG",
        "outputId": "aed37ad1-cef7-48e3-c428-c22220d0f79f"
      },
      "id": "ho6O-8I9d_nG",
      "execution_count": 2,
      "outputs": [
        {
          "output_type": "stream",
          "name": "stdout",
          "text": [
            "Drive already mounted at /content/drive; to attempt to forcibly remount, call drive.mount(\"/content/drive\", force_remount=True).\n"
          ]
        }
      ]
    },
    {
      "cell_type": "code",
      "execution_count": 3,
      "id": "b1987f4e-210e-4e44-98de-3271b766f707",
      "metadata": {
        "id": "b1987f4e-210e-4e44-98de-3271b766f707"
      },
      "outputs": [],
      "source": [
        "df_postings = pd.read_csv('/content/drive/MyDrive/linkedin_job_postings.csv') # Load job postings dataset\n",
        "df_skills = pd.read_csv('/content/drive/MyDrive/job_skills.csv') # Load job skills dataset"
      ]
    },
    {
      "cell_type": "code",
      "execution_count": 4,
      "id": "5a646e3c-5d4a-4b12-a3bd-e6a39122c564",
      "metadata": {
        "colab": {
          "base_uri": "https://localhost:8080/",
          "height": 112
        },
        "id": "5a646e3c-5d4a-4b12-a3bd-e6a39122c564",
        "outputId": "f6308b86-d82f-4670-8172-ade47a05fe55"
      },
      "outputs": [
        {
          "output_type": "execute_result",
          "data": {
            "text/plain": [
              "                                            job_link  \\\n",
              "0  https://www.linkedin.com/jobs/view/housekeeper...   \n",
              "1  https://www.linkedin.com/jobs/view/assistant-g...   \n",
              "\n",
              "                                          job_skills  \n",
              "0  Building Custodial Services, Cleaning, Janitor...  \n",
              "1  Customer service, Restaurant management, Food ...  "
            ],
            "text/html": [
              "\n",
              "  <div id=\"df-91d22172-0329-4308-a81a-f6d2204b0f95\" class=\"colab-df-container\">\n",
              "    <div>\n",
              "<style scoped>\n",
              "    .dataframe tbody tr th:only-of-type {\n",
              "        vertical-align: middle;\n",
              "    }\n",
              "\n",
              "    .dataframe tbody tr th {\n",
              "        vertical-align: top;\n",
              "    }\n",
              "\n",
              "    .dataframe thead th {\n",
              "        text-align: right;\n",
              "    }\n",
              "</style>\n",
              "<table border=\"1\" class=\"dataframe\">\n",
              "  <thead>\n",
              "    <tr style=\"text-align: right;\">\n",
              "      <th></th>\n",
              "      <th>job_link</th>\n",
              "      <th>job_skills</th>\n",
              "    </tr>\n",
              "  </thead>\n",
              "  <tbody>\n",
              "    <tr>\n",
              "      <th>0</th>\n",
              "      <td>https://www.linkedin.com/jobs/view/housekeeper...</td>\n",
              "      <td>Building Custodial Services, Cleaning, Janitor...</td>\n",
              "    </tr>\n",
              "    <tr>\n",
              "      <th>1</th>\n",
              "      <td>https://www.linkedin.com/jobs/view/assistant-g...</td>\n",
              "      <td>Customer service, Restaurant management, Food ...</td>\n",
              "    </tr>\n",
              "  </tbody>\n",
              "</table>\n",
              "</div>\n",
              "    <div class=\"colab-df-buttons\">\n",
              "\n",
              "  <div class=\"colab-df-container\">\n",
              "    <button class=\"colab-df-convert\" onclick=\"convertToInteractive('df-91d22172-0329-4308-a81a-f6d2204b0f95')\"\n",
              "            title=\"Convert this dataframe to an interactive table.\"\n",
              "            style=\"display:none;\">\n",
              "\n",
              "  <svg xmlns=\"http://www.w3.org/2000/svg\" height=\"24px\" viewBox=\"0 -960 960 960\">\n",
              "    <path d=\"M120-120v-720h720v720H120Zm60-500h600v-160H180v160Zm220 220h160v-160H400v160Zm0 220h160v-160H400v160ZM180-400h160v-160H180v160Zm440 0h160v-160H620v160ZM180-180h160v-160H180v160Zm440 0h160v-160H620v160Z\"/>\n",
              "  </svg>\n",
              "    </button>\n",
              "\n",
              "  <style>\n",
              "    .colab-df-container {\n",
              "      display:flex;\n",
              "      gap: 12px;\n",
              "    }\n",
              "\n",
              "    .colab-df-convert {\n",
              "      background-color: #E8F0FE;\n",
              "      border: none;\n",
              "      border-radius: 50%;\n",
              "      cursor: pointer;\n",
              "      display: none;\n",
              "      fill: #1967D2;\n",
              "      height: 32px;\n",
              "      padding: 0 0 0 0;\n",
              "      width: 32px;\n",
              "    }\n",
              "\n",
              "    .colab-df-convert:hover {\n",
              "      background-color: #E2EBFA;\n",
              "      box-shadow: 0px 1px 2px rgba(60, 64, 67, 0.3), 0px 1px 3px 1px rgba(60, 64, 67, 0.15);\n",
              "      fill: #174EA6;\n",
              "    }\n",
              "\n",
              "    .colab-df-buttons div {\n",
              "      margin-bottom: 4px;\n",
              "    }\n",
              "\n",
              "    [theme=dark] .colab-df-convert {\n",
              "      background-color: #3B4455;\n",
              "      fill: #D2E3FC;\n",
              "    }\n",
              "\n",
              "    [theme=dark] .colab-df-convert:hover {\n",
              "      background-color: #434B5C;\n",
              "      box-shadow: 0px 1px 3px 1px rgba(0, 0, 0, 0.15);\n",
              "      filter: drop-shadow(0px 1px 2px rgba(0, 0, 0, 0.3));\n",
              "      fill: #FFFFFF;\n",
              "    }\n",
              "  </style>\n",
              "\n",
              "    <script>\n",
              "      const buttonEl =\n",
              "        document.querySelector('#df-91d22172-0329-4308-a81a-f6d2204b0f95 button.colab-df-convert');\n",
              "      buttonEl.style.display =\n",
              "        google.colab.kernel.accessAllowed ? 'block' : 'none';\n",
              "\n",
              "      async function convertToInteractive(key) {\n",
              "        const element = document.querySelector('#df-91d22172-0329-4308-a81a-f6d2204b0f95');\n",
              "        const dataTable =\n",
              "          await google.colab.kernel.invokeFunction('convertToInteractive',\n",
              "                                                    [key], {});\n",
              "        if (!dataTable) return;\n",
              "\n",
              "        const docLinkHtml = 'Like what you see? Visit the ' +\n",
              "          '<a target=\"_blank\" href=https://colab.research.google.com/notebooks/data_table.ipynb>data table notebook</a>'\n",
              "          + ' to learn more about interactive tables.';\n",
              "        element.innerHTML = '';\n",
              "        dataTable['output_type'] = 'display_data';\n",
              "        await google.colab.output.renderOutput(dataTable, element);\n",
              "        const docLink = document.createElement('div');\n",
              "        docLink.innerHTML = docLinkHtml;\n",
              "        element.appendChild(docLink);\n",
              "      }\n",
              "    </script>\n",
              "  </div>\n",
              "\n",
              "\n",
              "<div id=\"df-0a039f4d-4668-49bc-8aae-5aac06abc16a\">\n",
              "  <button class=\"colab-df-quickchart\" onclick=\"quickchart('df-0a039f4d-4668-49bc-8aae-5aac06abc16a')\"\n",
              "            title=\"Suggest charts\"\n",
              "            style=\"display:none;\">\n",
              "\n",
              "<svg xmlns=\"http://www.w3.org/2000/svg\" height=\"24px\"viewBox=\"0 0 24 24\"\n",
              "     width=\"24px\">\n",
              "    <g>\n",
              "        <path d=\"M19 3H5c-1.1 0-2 .9-2 2v14c0 1.1.9 2 2 2h14c1.1 0 2-.9 2-2V5c0-1.1-.9-2-2-2zM9 17H7v-7h2v7zm4 0h-2V7h2v10zm4 0h-2v-4h2v4z\"/>\n",
              "    </g>\n",
              "</svg>\n",
              "  </button>\n",
              "\n",
              "<style>\n",
              "  .colab-df-quickchart {\n",
              "      --bg-color: #E8F0FE;\n",
              "      --fill-color: #1967D2;\n",
              "      --hover-bg-color: #E2EBFA;\n",
              "      --hover-fill-color: #174EA6;\n",
              "      --disabled-fill-color: #AAA;\n",
              "      --disabled-bg-color: #DDD;\n",
              "  }\n",
              "\n",
              "  [theme=dark] .colab-df-quickchart {\n",
              "      --bg-color: #3B4455;\n",
              "      --fill-color: #D2E3FC;\n",
              "      --hover-bg-color: #434B5C;\n",
              "      --hover-fill-color: #FFFFFF;\n",
              "      --disabled-bg-color: #3B4455;\n",
              "      --disabled-fill-color: #666;\n",
              "  }\n",
              "\n",
              "  .colab-df-quickchart {\n",
              "    background-color: var(--bg-color);\n",
              "    border: none;\n",
              "    border-radius: 50%;\n",
              "    cursor: pointer;\n",
              "    display: none;\n",
              "    fill: var(--fill-color);\n",
              "    height: 32px;\n",
              "    padding: 0;\n",
              "    width: 32px;\n",
              "  }\n",
              "\n",
              "  .colab-df-quickchart:hover {\n",
              "    background-color: var(--hover-bg-color);\n",
              "    box-shadow: 0 1px 2px rgba(60, 64, 67, 0.3), 0 1px 3px 1px rgba(60, 64, 67, 0.15);\n",
              "    fill: var(--button-hover-fill-color);\n",
              "  }\n",
              "\n",
              "  .colab-df-quickchart-complete:disabled,\n",
              "  .colab-df-quickchart-complete:disabled:hover {\n",
              "    background-color: var(--disabled-bg-color);\n",
              "    fill: var(--disabled-fill-color);\n",
              "    box-shadow: none;\n",
              "  }\n",
              "\n",
              "  .colab-df-spinner {\n",
              "    border: 2px solid var(--fill-color);\n",
              "    border-color: transparent;\n",
              "    border-bottom-color: var(--fill-color);\n",
              "    animation:\n",
              "      spin 1s steps(1) infinite;\n",
              "  }\n",
              "\n",
              "  @keyframes spin {\n",
              "    0% {\n",
              "      border-color: transparent;\n",
              "      border-bottom-color: var(--fill-color);\n",
              "      border-left-color: var(--fill-color);\n",
              "    }\n",
              "    20% {\n",
              "      border-color: transparent;\n",
              "      border-left-color: var(--fill-color);\n",
              "      border-top-color: var(--fill-color);\n",
              "    }\n",
              "    30% {\n",
              "      border-color: transparent;\n",
              "      border-left-color: var(--fill-color);\n",
              "      border-top-color: var(--fill-color);\n",
              "      border-right-color: var(--fill-color);\n",
              "    }\n",
              "    40% {\n",
              "      border-color: transparent;\n",
              "      border-right-color: var(--fill-color);\n",
              "      border-top-color: var(--fill-color);\n",
              "    }\n",
              "    60% {\n",
              "      border-color: transparent;\n",
              "      border-right-color: var(--fill-color);\n",
              "    }\n",
              "    80% {\n",
              "      border-color: transparent;\n",
              "      border-right-color: var(--fill-color);\n",
              "      border-bottom-color: var(--fill-color);\n",
              "    }\n",
              "    90% {\n",
              "      border-color: transparent;\n",
              "      border-bottom-color: var(--fill-color);\n",
              "    }\n",
              "  }\n",
              "</style>\n",
              "\n",
              "  <script>\n",
              "    async function quickchart(key) {\n",
              "      const quickchartButtonEl =\n",
              "        document.querySelector('#' + key + ' button');\n",
              "      quickchartButtonEl.disabled = true;  // To prevent multiple clicks.\n",
              "      quickchartButtonEl.classList.add('colab-df-spinner');\n",
              "      try {\n",
              "        const charts = await google.colab.kernel.invokeFunction(\n",
              "            'suggestCharts', [key], {});\n",
              "      } catch (error) {\n",
              "        console.error('Error during call to suggestCharts:', error);\n",
              "      }\n",
              "      quickchartButtonEl.classList.remove('colab-df-spinner');\n",
              "      quickchartButtonEl.classList.add('colab-df-quickchart-complete');\n",
              "    }\n",
              "    (() => {\n",
              "      let quickchartButtonEl =\n",
              "        document.querySelector('#df-0a039f4d-4668-49bc-8aae-5aac06abc16a button');\n",
              "      quickchartButtonEl.style.display =\n",
              "        google.colab.kernel.accessAllowed ? 'block' : 'none';\n",
              "    })();\n",
              "  </script>\n",
              "</div>\n",
              "\n",
              "    </div>\n",
              "  </div>\n"
            ],
            "application/vnd.google.colaboratory.intrinsic+json": {
              "type": "dataframe",
              "variable_name": "df_skills"
            }
          },
          "metadata": {},
          "execution_count": 4
        }
      ],
      "source": [
        "# Display the first two rows of each dataset to check the structure\n",
        "df_postings.head(2)\n",
        "df_skills.head(2)"
      ]
    },
    {
      "cell_type": "markdown",
      "source": [
        "#### **B. Merging Data**  \n",
        "- We perform an **inner join** on the `job_link` column to merge job postings with their corresponding required skills.  \n",
        "- The resulting dataset, **`df_merged`**, combines job descriptions with relevant skill requirements.  \n",
        "- The shape of the merged dataset is displayed to verify successful integration.  "
      ],
      "metadata": {
        "id": "OE_23RXo-rhk"
      },
      "id": "OE_23RXo-rhk"
    },
    {
      "cell_type": "code",
      "execution_count": 5,
      "id": "9e10e1ab-055f-4cdd-905a-5f4745c9aa81",
      "metadata": {
        "colab": {
          "base_uri": "https://localhost:8080/"
        },
        "id": "9e10e1ab-055f-4cdd-905a-5f4745c9aa81",
        "outputId": "608632a2-4ab9-41f6-c359-ea5ab74186ad"
      },
      "outputs": [
        {
          "output_type": "stream",
          "name": "stdout",
          "text": [
            "Merged Data Shape: (1296381, 15)\n"
          ]
        }
      ],
      "source": [
        "# Merge both datasets on 'job_link' to combine job postings with their required skills\n",
        "df_merged = pd.merge(df_postings, df_skills, on='job_link', how='inner')\n",
        "print(\"Merged Data Shape:\", df_merged.shape) # Print the shape of the merged dataset"
      ]
    },
    {
      "cell_type": "markdown",
      "source": [
        "### **C. Loading the Test Dataset**  \n",
        "- We load `test_data.csv`, which contains **job titles** and their associated **skills**.  \n",
        "- This dataset will be used for evaluating the **recommendation system's accuracy**.\n",
        "\n",
        "\n",
        "### **D. Removing Test Records from Training Data**  \n",
        "- We remove **test job postings** from `df_merged` using their indices.  \n",
        "- This prevents **data leakage**, ensuring that the model is **not trained** on the same records it is tested on.  \n",
        "- The shape of the updated `df_merged` dataset is displayed to confirm the changes."
      ],
      "metadata": {
        "id": "AHSEUU-NWANP"
      },
      "id": "AHSEUU-NWANP"
    },
    {
      "cell_type": "code",
      "source": [
        "# Load test dataset\n",
        "test_data = pd.read_csv('/content/drive/MyDrive/test_data.csv')"
      ],
      "metadata": {
        "id": "fPwCk3aWglNT"
      },
      "id": "fPwCk3aWglNT",
      "execution_count": 6,
      "outputs": []
    },
    {
      "cell_type": "code",
      "source": [
        "# Remove the test records from the original dataset using their indices\n",
        "df_merged = df_merged.drop(test_data.index)\n",
        "df_merged.shape"
      ],
      "metadata": {
        "id": "SLTfusesgtHf",
        "outputId": "56afded7-3da5-424f-e45f-db75bcf02e61",
        "colab": {
          "base_uri": "https://localhost:8080/"
        }
      },
      "id": "SLTfusesgtHf",
      "execution_count": 7,
      "outputs": [
        {
          "output_type": "execute_result",
          "data": {
            "text/plain": [
              "(1296181, 15)"
            ]
          },
          "metadata": {},
          "execution_count": 7
        }
      ]
    },
    {
      "cell_type": "markdown",
      "source": [
        "#### **E. Filtering Relevant Columns**  \n",
        "- Since **job title** and **job skills** are the key components for similarity-based recommendations, we retain only these two columns.  \n",
        "- A final preview of the refined dataset ensures it is structured correctly for further preprocessing and feature extraction.  "
      ],
      "metadata": {
        "id": "TidFIBDq-ziZ"
      },
      "id": "TidFIBDq-ziZ"
    },
    {
      "cell_type": "code",
      "execution_count": 8,
      "id": "609137fc-74be-463b-b70c-1b4633ef0404",
      "metadata": {
        "id": "609137fc-74be-463b-b70c-1b4633ef0404"
      },
      "outputs": [],
      "source": [
        "# Keep now the desired columns only i.e. job_title w.r.t their job_skills\n",
        "df_merged = df_merged[['job_title', 'job_skills']]"
      ]
    },
    {
      "cell_type": "code",
      "execution_count": 9,
      "id": "f55f4dc6-b16f-43e1-8c50-2767463a5dc0",
      "metadata": {
        "colab": {
          "base_uri": "https://localhost:8080/",
          "height": 112
        },
        "id": "f55f4dc6-b16f-43e1-8c50-2767463a5dc0",
        "outputId": "a67f3af7-1fe9-4d82-a2d0-ab72893404c2"
      },
      "outputs": [
        {
          "output_type": "execute_result",
          "data": {
            "text/plain": [
              "                                             job_title  \\\n",
              "200  Travel RN Peds Onc 3184.24/week - 24183827EXPPLAT   \n",
              "201  RN Clinical - 4S Cardiovascular Surgery / Hear...   \n",
              "\n",
              "                                            job_skills  \n",
              "200  Pediatrics RN, BLS, PALS, American Heart Assoc...  \n",
              "201  Patient Care, Nursing Process, Medical Procedu...  "
            ],
            "text/html": [
              "\n",
              "  <div id=\"df-c8427d9a-6d83-48d4-a96c-9164da390980\" class=\"colab-df-container\">\n",
              "    <div>\n",
              "<style scoped>\n",
              "    .dataframe tbody tr th:only-of-type {\n",
              "        vertical-align: middle;\n",
              "    }\n",
              "\n",
              "    .dataframe tbody tr th {\n",
              "        vertical-align: top;\n",
              "    }\n",
              "\n",
              "    .dataframe thead th {\n",
              "        text-align: right;\n",
              "    }\n",
              "</style>\n",
              "<table border=\"1\" class=\"dataframe\">\n",
              "  <thead>\n",
              "    <tr style=\"text-align: right;\">\n",
              "      <th></th>\n",
              "      <th>job_title</th>\n",
              "      <th>job_skills</th>\n",
              "    </tr>\n",
              "  </thead>\n",
              "  <tbody>\n",
              "    <tr>\n",
              "      <th>200</th>\n",
              "      <td>Travel RN Peds Onc 3184.24/week - 24183827EXPPLAT</td>\n",
              "      <td>Pediatrics RN, BLS, PALS, American Heart Assoc...</td>\n",
              "    </tr>\n",
              "    <tr>\n",
              "      <th>201</th>\n",
              "      <td>RN Clinical - 4S Cardiovascular Surgery / Hear...</td>\n",
              "      <td>Patient Care, Nursing Process, Medical Procedu...</td>\n",
              "    </tr>\n",
              "  </tbody>\n",
              "</table>\n",
              "</div>\n",
              "    <div class=\"colab-df-buttons\">\n",
              "\n",
              "  <div class=\"colab-df-container\">\n",
              "    <button class=\"colab-df-convert\" onclick=\"convertToInteractive('df-c8427d9a-6d83-48d4-a96c-9164da390980')\"\n",
              "            title=\"Convert this dataframe to an interactive table.\"\n",
              "            style=\"display:none;\">\n",
              "\n",
              "  <svg xmlns=\"http://www.w3.org/2000/svg\" height=\"24px\" viewBox=\"0 -960 960 960\">\n",
              "    <path d=\"M120-120v-720h720v720H120Zm60-500h600v-160H180v160Zm220 220h160v-160H400v160Zm0 220h160v-160H400v160ZM180-400h160v-160H180v160Zm440 0h160v-160H620v160ZM180-180h160v-160H180v160Zm440 0h160v-160H620v160Z\"/>\n",
              "  </svg>\n",
              "    </button>\n",
              "\n",
              "  <style>\n",
              "    .colab-df-container {\n",
              "      display:flex;\n",
              "      gap: 12px;\n",
              "    }\n",
              "\n",
              "    .colab-df-convert {\n",
              "      background-color: #E8F0FE;\n",
              "      border: none;\n",
              "      border-radius: 50%;\n",
              "      cursor: pointer;\n",
              "      display: none;\n",
              "      fill: #1967D2;\n",
              "      height: 32px;\n",
              "      padding: 0 0 0 0;\n",
              "      width: 32px;\n",
              "    }\n",
              "\n",
              "    .colab-df-convert:hover {\n",
              "      background-color: #E2EBFA;\n",
              "      box-shadow: 0px 1px 2px rgba(60, 64, 67, 0.3), 0px 1px 3px 1px rgba(60, 64, 67, 0.15);\n",
              "      fill: #174EA6;\n",
              "    }\n",
              "\n",
              "    .colab-df-buttons div {\n",
              "      margin-bottom: 4px;\n",
              "    }\n",
              "\n",
              "    [theme=dark] .colab-df-convert {\n",
              "      background-color: #3B4455;\n",
              "      fill: #D2E3FC;\n",
              "    }\n",
              "\n",
              "    [theme=dark] .colab-df-convert:hover {\n",
              "      background-color: #434B5C;\n",
              "      box-shadow: 0px 1px 3px 1px rgba(0, 0, 0, 0.15);\n",
              "      filter: drop-shadow(0px 1px 2px rgba(0, 0, 0, 0.3));\n",
              "      fill: #FFFFFF;\n",
              "    }\n",
              "  </style>\n",
              "\n",
              "    <script>\n",
              "      const buttonEl =\n",
              "        document.querySelector('#df-c8427d9a-6d83-48d4-a96c-9164da390980 button.colab-df-convert');\n",
              "      buttonEl.style.display =\n",
              "        google.colab.kernel.accessAllowed ? 'block' : 'none';\n",
              "\n",
              "      async function convertToInteractive(key) {\n",
              "        const element = document.querySelector('#df-c8427d9a-6d83-48d4-a96c-9164da390980');\n",
              "        const dataTable =\n",
              "          await google.colab.kernel.invokeFunction('convertToInteractive',\n",
              "                                                    [key], {});\n",
              "        if (!dataTable) return;\n",
              "\n",
              "        const docLinkHtml = 'Like what you see? Visit the ' +\n",
              "          '<a target=\"_blank\" href=https://colab.research.google.com/notebooks/data_table.ipynb>data table notebook</a>'\n",
              "          + ' to learn more about interactive tables.';\n",
              "        element.innerHTML = '';\n",
              "        dataTable['output_type'] = 'display_data';\n",
              "        await google.colab.output.renderOutput(dataTable, element);\n",
              "        const docLink = document.createElement('div');\n",
              "        docLink.innerHTML = docLinkHtml;\n",
              "        element.appendChild(docLink);\n",
              "      }\n",
              "    </script>\n",
              "  </div>\n",
              "\n",
              "\n",
              "<div id=\"df-e4c1297a-389e-4b73-b291-12a86ae1a701\">\n",
              "  <button class=\"colab-df-quickchart\" onclick=\"quickchart('df-e4c1297a-389e-4b73-b291-12a86ae1a701')\"\n",
              "            title=\"Suggest charts\"\n",
              "            style=\"display:none;\">\n",
              "\n",
              "<svg xmlns=\"http://www.w3.org/2000/svg\" height=\"24px\"viewBox=\"0 0 24 24\"\n",
              "     width=\"24px\">\n",
              "    <g>\n",
              "        <path d=\"M19 3H5c-1.1 0-2 .9-2 2v14c0 1.1.9 2 2 2h14c1.1 0 2-.9 2-2V5c0-1.1-.9-2-2-2zM9 17H7v-7h2v7zm4 0h-2V7h2v10zm4 0h-2v-4h2v4z\"/>\n",
              "    </g>\n",
              "</svg>\n",
              "  </button>\n",
              "\n",
              "<style>\n",
              "  .colab-df-quickchart {\n",
              "      --bg-color: #E8F0FE;\n",
              "      --fill-color: #1967D2;\n",
              "      --hover-bg-color: #E2EBFA;\n",
              "      --hover-fill-color: #174EA6;\n",
              "      --disabled-fill-color: #AAA;\n",
              "      --disabled-bg-color: #DDD;\n",
              "  }\n",
              "\n",
              "  [theme=dark] .colab-df-quickchart {\n",
              "      --bg-color: #3B4455;\n",
              "      --fill-color: #D2E3FC;\n",
              "      --hover-bg-color: #434B5C;\n",
              "      --hover-fill-color: #FFFFFF;\n",
              "      --disabled-bg-color: #3B4455;\n",
              "      --disabled-fill-color: #666;\n",
              "  }\n",
              "\n",
              "  .colab-df-quickchart {\n",
              "    background-color: var(--bg-color);\n",
              "    border: none;\n",
              "    border-radius: 50%;\n",
              "    cursor: pointer;\n",
              "    display: none;\n",
              "    fill: var(--fill-color);\n",
              "    height: 32px;\n",
              "    padding: 0;\n",
              "    width: 32px;\n",
              "  }\n",
              "\n",
              "  .colab-df-quickchart:hover {\n",
              "    background-color: var(--hover-bg-color);\n",
              "    box-shadow: 0 1px 2px rgba(60, 64, 67, 0.3), 0 1px 3px 1px rgba(60, 64, 67, 0.15);\n",
              "    fill: var(--button-hover-fill-color);\n",
              "  }\n",
              "\n",
              "  .colab-df-quickchart-complete:disabled,\n",
              "  .colab-df-quickchart-complete:disabled:hover {\n",
              "    background-color: var(--disabled-bg-color);\n",
              "    fill: var(--disabled-fill-color);\n",
              "    box-shadow: none;\n",
              "  }\n",
              "\n",
              "  .colab-df-spinner {\n",
              "    border: 2px solid var(--fill-color);\n",
              "    border-color: transparent;\n",
              "    border-bottom-color: var(--fill-color);\n",
              "    animation:\n",
              "      spin 1s steps(1) infinite;\n",
              "  }\n",
              "\n",
              "  @keyframes spin {\n",
              "    0% {\n",
              "      border-color: transparent;\n",
              "      border-bottom-color: var(--fill-color);\n",
              "      border-left-color: var(--fill-color);\n",
              "    }\n",
              "    20% {\n",
              "      border-color: transparent;\n",
              "      border-left-color: var(--fill-color);\n",
              "      border-top-color: var(--fill-color);\n",
              "    }\n",
              "    30% {\n",
              "      border-color: transparent;\n",
              "      border-left-color: var(--fill-color);\n",
              "      border-top-color: var(--fill-color);\n",
              "      border-right-color: var(--fill-color);\n",
              "    }\n",
              "    40% {\n",
              "      border-color: transparent;\n",
              "      border-right-color: var(--fill-color);\n",
              "      border-top-color: var(--fill-color);\n",
              "    }\n",
              "    60% {\n",
              "      border-color: transparent;\n",
              "      border-right-color: var(--fill-color);\n",
              "    }\n",
              "    80% {\n",
              "      border-color: transparent;\n",
              "      border-right-color: var(--fill-color);\n",
              "      border-bottom-color: var(--fill-color);\n",
              "    }\n",
              "    90% {\n",
              "      border-color: transparent;\n",
              "      border-bottom-color: var(--fill-color);\n",
              "    }\n",
              "  }\n",
              "</style>\n",
              "\n",
              "  <script>\n",
              "    async function quickchart(key) {\n",
              "      const quickchartButtonEl =\n",
              "        document.querySelector('#' + key + ' button');\n",
              "      quickchartButtonEl.disabled = true;  // To prevent multiple clicks.\n",
              "      quickchartButtonEl.classList.add('colab-df-spinner');\n",
              "      try {\n",
              "        const charts = await google.colab.kernel.invokeFunction(\n",
              "            'suggestCharts', [key], {});\n",
              "      } catch (error) {\n",
              "        console.error('Error during call to suggestCharts:', error);\n",
              "      }\n",
              "      quickchartButtonEl.classList.remove('colab-df-spinner');\n",
              "      quickchartButtonEl.classList.add('colab-df-quickchart-complete');\n",
              "    }\n",
              "    (() => {\n",
              "      let quickchartButtonEl =\n",
              "        document.querySelector('#df-e4c1297a-389e-4b73-b291-12a86ae1a701 button');\n",
              "      quickchartButtonEl.style.display =\n",
              "        google.colab.kernel.accessAllowed ? 'block' : 'none';\n",
              "    })();\n",
              "  </script>\n",
              "</div>\n",
              "\n",
              "    </div>\n",
              "  </div>\n"
            ],
            "application/vnd.google.colaboratory.intrinsic+json": {
              "type": "dataframe",
              "variable_name": "df_merged"
            }
          },
          "metadata": {},
          "execution_count": 9
        }
      ],
      "source": [
        "# Display the first two rows of the merged dataset\n",
        "df_merged.head(2)"
      ]
    },
    {
      "cell_type": "markdown",
      "id": "6f7c102b-603f-42f6-919a-c4f32fcc7c15",
      "metadata": {
        "id": "6f7c102b-603f-42f6-919a-c4f32fcc7c15"
      },
      "source": [
        "### **2.3 Data Cleaning & Preprocessing**  \n",
        "\n",
        "To ensure high-quality job recommendations, we clean and preprocess the dataset by **removing duplicates, handling missing values, and standardizing text**.  \n",
        "\n",
        "\n",
        "\n",
        "### **A. Handling Duplicates & Missing Values**  \n",
        "- **Remove duplicate records** to eliminate redundancy.  \n",
        "- **Check for missing values** in key columns (`job_title` and `job_skills`).  \n",
        "- Since the dataset is large, **rows with missing values** in `job_skills` are safely removed.  \n",
        "- The dataset size is updated and displayed after these operations.  \n",
        "\n"
      ]
    },
    {
      "cell_type": "code",
      "execution_count": 10,
      "id": "292b3dfa-a14a-440c-ad3f-00d5d5d9dc14",
      "metadata": {
        "id": "292b3dfa-a14a-440c-ad3f-00d5d5d9dc14"
      },
      "outputs": [],
      "source": [
        "# Remove duplicates\n",
        "df_merged.drop_duplicates(inplace=True)"
      ]
    },
    {
      "cell_type": "code",
      "execution_count": 11,
      "id": "265eb7e7-b80a-4bf6-b412-084700a600c7",
      "metadata": {
        "colab": {
          "base_uri": "https://localhost:8080/"
        },
        "id": "265eb7e7-b80a-4bf6-b412-084700a600c7",
        "outputId": "b113ae42-21e7-4bae-9c20-e9a02d3c9317"
      },
      "outputs": [
        {
          "output_type": "stream",
          "name": "stdout",
          "text": [
            "job_title        0\n",
            "job_skills    1384\n",
            "dtype: int64\n"
          ]
        }
      ],
      "source": [
        "# Check the null rows\n",
        "print(df_merged.isnull().sum())"
      ]
    },
    {
      "cell_type": "code",
      "execution_count": 12,
      "id": "5a04f083-cde3-40ec-9606-510529fe9022",
      "metadata": {
        "id": "5a04f083-cde3-40ec-9606-510529fe9022"
      },
      "outputs": [],
      "source": [
        "# Since the dataset is large, we can safely drop these rows with null values\n",
        "df_merged.dropna(inplace=True)"
      ]
    },
    {
      "cell_type": "code",
      "execution_count": 13,
      "id": "69e74747-c25d-4ef9-9306-cfb80ae64820",
      "metadata": {
        "colab": {
          "base_uri": "https://localhost:8080/"
        },
        "id": "69e74747-c25d-4ef9-9306-cfb80ae64820",
        "outputId": "041720e8-fe9a-402f-b919-a68271f1f8c5"
      },
      "outputs": [
        {
          "output_type": "stream",
          "name": "stdout",
          "text": [
            "Merged Data Shape: (1290930, 2)\n"
          ]
        }
      ],
      "source": [
        "print(\"Merged Data Shape:\", df_merged.shape) # Print the shape of the merged dataset"
      ]
    },
    {
      "cell_type": "markdown",
      "id": "79cd1b66-6662-447d-8716-316773300cc5",
      "metadata": {
        "id": "79cd1b66-6662-447d-8716-316773300cc5"
      },
      "source": [
        "\n",
        "### **B. Text Preprocessing**  \n",
        "To improve **text consistency and accuracy**, we apply multiple preprocessing steps:  \n",
        "\n",
        "#### **- Cleaning Text**  \n",
        "- Convert all text to **lowercase** to maintain uniformity.  \n",
        "- Remove **special characters** to eliminate noise.  \n",
        "- Remove **extra spaces** to standardize formatting.  \n",
        "\n",
        "#### **- Removing Stopwords**  \n",
        "- Stopwords (e.g., \"the\", \"is\", \"and\") are removed using **NLTK’s predefined list**, ensuring only meaningful words remain.\n",
        "\n",
        "#### **- Combining Job Title and Skills**  \n",
        "- A **new column** (`combined_text`) is created by merging `job_title` and `job_skills`.  \n",
        "- This ensures that both **job roles** and **required skills** contribute to the similarity calculations.  \n",
        "\n",
        "\n",
        "\n",
        "### **C Final Dataset Preview**  \n",
        "- The cleaned dataset, including the `combined_text` column, is displayed to confirm successful preprocessing.  \n",
        "- This processed data is now ready for **feature extraction and recommendation generation**."
      ]
    },
    {
      "cell_type": "code",
      "execution_count": 14,
      "id": "e39a5b43-45ab-4e45-970e-be2f77ae55b6",
      "metadata": {
        "id": "e39a5b43-45ab-4e45-970e-be2f77ae55b6"
      },
      "outputs": [],
      "source": [
        "# Defining the function for cleaning the text.\n",
        "\n",
        "# Remove Special Characters, Convert to Lower Words, Remove Extra spaces\n",
        "\n",
        "def clean_text(text):\n",
        "    text = text.lower()\n",
        "    text = re.sub(r'[^a-z\\s]', '', text)\n",
        "    text = re.sub(r'\\s+', ' ', text).strip()\n",
        "    return text"
      ]
    },
    {
      "cell_type": "code",
      "execution_count": 15,
      "id": "638974c3-7270-4d13-b1c8-54b2e22fd865",
      "metadata": {
        "id": "638974c3-7270-4d13-b1c8-54b2e22fd865"
      },
      "outputs": [],
      "source": [
        "# Defining the function for removal of stop words using NLTK .\n",
        "\n",
        "# Remove common English stopwords\n",
        "\n",
        "def remove_stopwords(text):\n",
        "    tokens = text.split()\n",
        "    tokens = [w for w in tokens if w not in stop_words]\n",
        "    return ' '.join(tokens)\n"
      ]
    },
    {
      "cell_type": "code",
      "execution_count": 16,
      "id": "2c2d2075-cb26-4488-bbfa-df09f486fe6c",
      "metadata": {
        "id": "2c2d2075-cb26-4488-bbfa-df09f486fe6c"
      },
      "outputs": [],
      "source": [
        "# Building combined text from job_title & job_skills\n",
        "\n",
        "# Combining the title and skills\n",
        "\n",
        "df_merged['combined_text'] = (\n",
        "    df_merged['job_title'].fillna('') + ' ' +\n",
        "    df_merged['job_skills'].fillna('')\n",
        ")"
      ]
    },
    {
      "cell_type": "code",
      "execution_count": 17,
      "id": "b29282e5-9396-4605-9c06-d4ff378e8b83",
      "metadata": {
        "id": "b29282e5-9396-4605-9c06-d4ff378e8b83"
      },
      "outputs": [],
      "source": [
        "# Apply cleaning (clean text and remove stopwords on the data)\n",
        "\n",
        "df_merged['combined_text'] = df_merged['combined_text'].apply(clean_text).apply(remove_stopwords)"
      ]
    },
    {
      "cell_type": "code",
      "execution_count": 18,
      "id": "2b0e0076-9a9d-420f-9499-4578c054ccd5",
      "metadata": {
        "colab": {
          "base_uri": "https://localhost:8080/",
          "height": 206
        },
        "id": "2b0e0076-9a9d-420f-9499-4578c054ccd5",
        "outputId": "bcc1627f-436b-4ad0-dfc2-6b2df2b2a44a"
      },
      "outputs": [
        {
          "output_type": "execute_result",
          "data": {
            "text/plain": [
              "                                             job_title  \\\n",
              "200  Travel RN Peds Onc 3184.24/week - 24183827EXPPLAT   \n",
              "201  RN Clinical - 4S Cardiovascular Surgery / Hear...   \n",
              "202  Emergency Medicine Physician Near Myrtle Beach...   \n",
              "203                                   To Go Specialist   \n",
              "204  Strategic Content and Relationship Management ...   \n",
              "\n",
              "                                            job_skills  \\\n",
              "200  Pediatrics RN, BLS, PALS, American Heart Assoc...   \n",
              "201  Patient Care, Nursing Process, Medical Procedu...   \n",
              "202  Emergency medicine, Physician, ABEM/AOBEM boar...   \n",
              "203  Teamwork, Customer service, Attention to detai...   \n",
              "204  Licensing agreements, Vendor management, Contr...   \n",
              "\n",
              "                                         combined_text  \n",
              "200  travel rn peds onc week expplat pediatrics rn ...  \n",
              "201  rn clinical cardiovascular surgery heart lung ...  \n",
              "202  emergency medicine physician near myrtle beach...  \n",
              "203  go specialist teamwork customer service attent...  \n",
              "204  strategic content relationship management spec...  "
            ],
            "text/html": [
              "\n",
              "  <div id=\"df-c28b812f-3a9a-4a04-a16d-32f7767b8a59\" class=\"colab-df-container\">\n",
              "    <div>\n",
              "<style scoped>\n",
              "    .dataframe tbody tr th:only-of-type {\n",
              "        vertical-align: middle;\n",
              "    }\n",
              "\n",
              "    .dataframe tbody tr th {\n",
              "        vertical-align: top;\n",
              "    }\n",
              "\n",
              "    .dataframe thead th {\n",
              "        text-align: right;\n",
              "    }\n",
              "</style>\n",
              "<table border=\"1\" class=\"dataframe\">\n",
              "  <thead>\n",
              "    <tr style=\"text-align: right;\">\n",
              "      <th></th>\n",
              "      <th>job_title</th>\n",
              "      <th>job_skills</th>\n",
              "      <th>combined_text</th>\n",
              "    </tr>\n",
              "  </thead>\n",
              "  <tbody>\n",
              "    <tr>\n",
              "      <th>200</th>\n",
              "      <td>Travel RN Peds Onc 3184.24/week - 24183827EXPPLAT</td>\n",
              "      <td>Pediatrics RN, BLS, PALS, American Heart Assoc...</td>\n",
              "      <td>travel rn peds onc week expplat pediatrics rn ...</td>\n",
              "    </tr>\n",
              "    <tr>\n",
              "      <th>201</th>\n",
              "      <td>RN Clinical - 4S Cardiovascular Surgery / Hear...</td>\n",
              "      <td>Patient Care, Nursing Process, Medical Procedu...</td>\n",
              "      <td>rn clinical cardiovascular surgery heart lung ...</td>\n",
              "    </tr>\n",
              "    <tr>\n",
              "      <th>202</th>\n",
              "      <td>Emergency Medicine Physician Near Myrtle Beach...</td>\n",
              "      <td>Emergency medicine, Physician, ABEM/AOBEM boar...</td>\n",
              "      <td>emergency medicine physician near myrtle beach...</td>\n",
              "    </tr>\n",
              "    <tr>\n",
              "      <th>203</th>\n",
              "      <td>To Go Specialist</td>\n",
              "      <td>Teamwork, Customer service, Attention to detai...</td>\n",
              "      <td>go specialist teamwork customer service attent...</td>\n",
              "    </tr>\n",
              "    <tr>\n",
              "      <th>204</th>\n",
              "      <td>Strategic Content and Relationship Management ...</td>\n",
              "      <td>Licensing agreements, Vendor management, Contr...</td>\n",
              "      <td>strategic content relationship management spec...</td>\n",
              "    </tr>\n",
              "  </tbody>\n",
              "</table>\n",
              "</div>\n",
              "    <div class=\"colab-df-buttons\">\n",
              "\n",
              "  <div class=\"colab-df-container\">\n",
              "    <button class=\"colab-df-convert\" onclick=\"convertToInteractive('df-c28b812f-3a9a-4a04-a16d-32f7767b8a59')\"\n",
              "            title=\"Convert this dataframe to an interactive table.\"\n",
              "            style=\"display:none;\">\n",
              "\n",
              "  <svg xmlns=\"http://www.w3.org/2000/svg\" height=\"24px\" viewBox=\"0 -960 960 960\">\n",
              "    <path d=\"M120-120v-720h720v720H120Zm60-500h600v-160H180v160Zm220 220h160v-160H400v160Zm0 220h160v-160H400v160ZM180-400h160v-160H180v160Zm440 0h160v-160H620v160ZM180-180h160v-160H180v160Zm440 0h160v-160H620v160Z\"/>\n",
              "  </svg>\n",
              "    </button>\n",
              "\n",
              "  <style>\n",
              "    .colab-df-container {\n",
              "      display:flex;\n",
              "      gap: 12px;\n",
              "    }\n",
              "\n",
              "    .colab-df-convert {\n",
              "      background-color: #E8F0FE;\n",
              "      border: none;\n",
              "      border-radius: 50%;\n",
              "      cursor: pointer;\n",
              "      display: none;\n",
              "      fill: #1967D2;\n",
              "      height: 32px;\n",
              "      padding: 0 0 0 0;\n",
              "      width: 32px;\n",
              "    }\n",
              "\n",
              "    .colab-df-convert:hover {\n",
              "      background-color: #E2EBFA;\n",
              "      box-shadow: 0px 1px 2px rgba(60, 64, 67, 0.3), 0px 1px 3px 1px rgba(60, 64, 67, 0.15);\n",
              "      fill: #174EA6;\n",
              "    }\n",
              "\n",
              "    .colab-df-buttons div {\n",
              "      margin-bottom: 4px;\n",
              "    }\n",
              "\n",
              "    [theme=dark] .colab-df-convert {\n",
              "      background-color: #3B4455;\n",
              "      fill: #D2E3FC;\n",
              "    }\n",
              "\n",
              "    [theme=dark] .colab-df-convert:hover {\n",
              "      background-color: #434B5C;\n",
              "      box-shadow: 0px 1px 3px 1px rgba(0, 0, 0, 0.15);\n",
              "      filter: drop-shadow(0px 1px 2px rgba(0, 0, 0, 0.3));\n",
              "      fill: #FFFFFF;\n",
              "    }\n",
              "  </style>\n",
              "\n",
              "    <script>\n",
              "      const buttonEl =\n",
              "        document.querySelector('#df-c28b812f-3a9a-4a04-a16d-32f7767b8a59 button.colab-df-convert');\n",
              "      buttonEl.style.display =\n",
              "        google.colab.kernel.accessAllowed ? 'block' : 'none';\n",
              "\n",
              "      async function convertToInteractive(key) {\n",
              "        const element = document.querySelector('#df-c28b812f-3a9a-4a04-a16d-32f7767b8a59');\n",
              "        const dataTable =\n",
              "          await google.colab.kernel.invokeFunction('convertToInteractive',\n",
              "                                                    [key], {});\n",
              "        if (!dataTable) return;\n",
              "\n",
              "        const docLinkHtml = 'Like what you see? Visit the ' +\n",
              "          '<a target=\"_blank\" href=https://colab.research.google.com/notebooks/data_table.ipynb>data table notebook</a>'\n",
              "          + ' to learn more about interactive tables.';\n",
              "        element.innerHTML = '';\n",
              "        dataTable['output_type'] = 'display_data';\n",
              "        await google.colab.output.renderOutput(dataTable, element);\n",
              "        const docLink = document.createElement('div');\n",
              "        docLink.innerHTML = docLinkHtml;\n",
              "        element.appendChild(docLink);\n",
              "      }\n",
              "    </script>\n",
              "  </div>\n",
              "\n",
              "\n",
              "<div id=\"df-4ae472ef-cbad-4947-a660-9b83f67899d8\">\n",
              "  <button class=\"colab-df-quickchart\" onclick=\"quickchart('df-4ae472ef-cbad-4947-a660-9b83f67899d8')\"\n",
              "            title=\"Suggest charts\"\n",
              "            style=\"display:none;\">\n",
              "\n",
              "<svg xmlns=\"http://www.w3.org/2000/svg\" height=\"24px\"viewBox=\"0 0 24 24\"\n",
              "     width=\"24px\">\n",
              "    <g>\n",
              "        <path d=\"M19 3H5c-1.1 0-2 .9-2 2v14c0 1.1.9 2 2 2h14c1.1 0 2-.9 2-2V5c0-1.1-.9-2-2-2zM9 17H7v-7h2v7zm4 0h-2V7h2v10zm4 0h-2v-4h2v4z\"/>\n",
              "    </g>\n",
              "</svg>\n",
              "  </button>\n",
              "\n",
              "<style>\n",
              "  .colab-df-quickchart {\n",
              "      --bg-color: #E8F0FE;\n",
              "      --fill-color: #1967D2;\n",
              "      --hover-bg-color: #E2EBFA;\n",
              "      --hover-fill-color: #174EA6;\n",
              "      --disabled-fill-color: #AAA;\n",
              "      --disabled-bg-color: #DDD;\n",
              "  }\n",
              "\n",
              "  [theme=dark] .colab-df-quickchart {\n",
              "      --bg-color: #3B4455;\n",
              "      --fill-color: #D2E3FC;\n",
              "      --hover-bg-color: #434B5C;\n",
              "      --hover-fill-color: #FFFFFF;\n",
              "      --disabled-bg-color: #3B4455;\n",
              "      --disabled-fill-color: #666;\n",
              "  }\n",
              "\n",
              "  .colab-df-quickchart {\n",
              "    background-color: var(--bg-color);\n",
              "    border: none;\n",
              "    border-radius: 50%;\n",
              "    cursor: pointer;\n",
              "    display: none;\n",
              "    fill: var(--fill-color);\n",
              "    height: 32px;\n",
              "    padding: 0;\n",
              "    width: 32px;\n",
              "  }\n",
              "\n",
              "  .colab-df-quickchart:hover {\n",
              "    background-color: var(--hover-bg-color);\n",
              "    box-shadow: 0 1px 2px rgba(60, 64, 67, 0.3), 0 1px 3px 1px rgba(60, 64, 67, 0.15);\n",
              "    fill: var(--button-hover-fill-color);\n",
              "  }\n",
              "\n",
              "  .colab-df-quickchart-complete:disabled,\n",
              "  .colab-df-quickchart-complete:disabled:hover {\n",
              "    background-color: var(--disabled-bg-color);\n",
              "    fill: var(--disabled-fill-color);\n",
              "    box-shadow: none;\n",
              "  }\n",
              "\n",
              "  .colab-df-spinner {\n",
              "    border: 2px solid var(--fill-color);\n",
              "    border-color: transparent;\n",
              "    border-bottom-color: var(--fill-color);\n",
              "    animation:\n",
              "      spin 1s steps(1) infinite;\n",
              "  }\n",
              "\n",
              "  @keyframes spin {\n",
              "    0% {\n",
              "      border-color: transparent;\n",
              "      border-bottom-color: var(--fill-color);\n",
              "      border-left-color: var(--fill-color);\n",
              "    }\n",
              "    20% {\n",
              "      border-color: transparent;\n",
              "      border-left-color: var(--fill-color);\n",
              "      border-top-color: var(--fill-color);\n",
              "    }\n",
              "    30% {\n",
              "      border-color: transparent;\n",
              "      border-left-color: var(--fill-color);\n",
              "      border-top-color: var(--fill-color);\n",
              "      border-right-color: var(--fill-color);\n",
              "    }\n",
              "    40% {\n",
              "      border-color: transparent;\n",
              "      border-right-color: var(--fill-color);\n",
              "      border-top-color: var(--fill-color);\n",
              "    }\n",
              "    60% {\n",
              "      border-color: transparent;\n",
              "      border-right-color: var(--fill-color);\n",
              "    }\n",
              "    80% {\n",
              "      border-color: transparent;\n",
              "      border-right-color: var(--fill-color);\n",
              "      border-bottom-color: var(--fill-color);\n",
              "    }\n",
              "    90% {\n",
              "      border-color: transparent;\n",
              "      border-bottom-color: var(--fill-color);\n",
              "    }\n",
              "  }\n",
              "</style>\n",
              "\n",
              "  <script>\n",
              "    async function quickchart(key) {\n",
              "      const quickchartButtonEl =\n",
              "        document.querySelector('#' + key + ' button');\n",
              "      quickchartButtonEl.disabled = true;  // To prevent multiple clicks.\n",
              "      quickchartButtonEl.classList.add('colab-df-spinner');\n",
              "      try {\n",
              "        const charts = await google.colab.kernel.invokeFunction(\n",
              "            'suggestCharts', [key], {});\n",
              "      } catch (error) {\n",
              "        console.error('Error during call to suggestCharts:', error);\n",
              "      }\n",
              "      quickchartButtonEl.classList.remove('colab-df-spinner');\n",
              "      quickchartButtonEl.classList.add('colab-df-quickchart-complete');\n",
              "    }\n",
              "    (() => {\n",
              "      let quickchartButtonEl =\n",
              "        document.querySelector('#df-4ae472ef-cbad-4947-a660-9b83f67899d8 button');\n",
              "      quickchartButtonEl.style.display =\n",
              "        google.colab.kernel.accessAllowed ? 'block' : 'none';\n",
              "    })();\n",
              "  </script>\n",
              "</div>\n",
              "\n",
              "    </div>\n",
              "  </div>\n"
            ],
            "application/vnd.google.colaboratory.intrinsic+json": {
              "type": "dataframe",
              "variable_name": "df_merged"
            }
          },
          "metadata": {},
          "execution_count": 18
        }
      ],
      "source": [
        "# Check the dataset sample\n",
        "\n",
        "# Dataset with cleaned combined_text to process further\n",
        "\n",
        "df_merged.head()"
      ]
    },
    {
      "cell_type": "markdown",
      "id": "5534af42-b0de-43d0-8209-a97361f21ec0",
      "metadata": {
        "id": "5534af42-b0de-43d0-8209-a97361f21ec0"
      },
      "source": [
        "## **3. Feature Extraction Technique**  "
      ]
    },
    {
      "cell_type": "markdown",
      "source": [
        "# **First Section: Running the Recommendation System on 5,000 Records**"
      ],
      "metadata": {
        "id": "UskApdIjGGTw"
      },
      "id": "UskApdIjGGTw"
    },
    {
      "cell_type": "markdown",
      "source": [
        "### We experimented with different dataset sizes, starting with a **smaller subset (5,000 records)** before scaling to the **full dataset**. This approach allowed us to analyze how the **amount of data impacts TF-IDF feature extraction, similarity calculations, and overall recommendation accuracy**.\n"
      ],
      "metadata": {
        "id": "87ToRufVeQ32"
      },
      "id": "87ToRufVeQ32"
    },
    {
      "cell_type": "code",
      "source": [
        "# Limit the dataset to 5000 records for processing and evaluation\n",
        "df_merged_5000 = df_merged.sample(n=5000, random_state=42)\n",
        "\n",
        "df_merged_5000.shape"
      ],
      "metadata": {
        "id": "qmfC4kjXeVln",
        "outputId": "510cb51d-66e6-4f36-faf2-9ffe096c408d",
        "colab": {
          "base_uri": "https://localhost:8080/"
        }
      },
      "id": "qmfC4kjXeVln",
      "execution_count": 19,
      "outputs": [
        {
          "output_type": "execute_result",
          "data": {
            "text/plain": [
              "(5000, 3)"
            ]
          },
          "metadata": {},
          "execution_count": 19
        }
      ]
    },
    {
      "cell_type": "markdown",
      "id": "4aa75f8d-58d2-4eac-a550-b023b7f978d5",
      "metadata": {
        "id": "4aa75f8d-58d2-4eac-a550-b023b7f978d5"
      },
      "source": [
        "# **4.1 TF-IDF**"
      ]
    },
    {
      "cell_type": "markdown",
      "source": [
        "## **A. Steps in TF-IDF Processing:**  \n",
        "### 1. **Import `TfidfVectorizer`** from `sklearn.feature_extraction.text`.  \n",
        "### 2. **Initialize the vectorizer** (`TfidfVectorizer()`).  \n",
        "## 3. **Fit and transform the `combined_text` column** into a **TF-IDF matrix**.  \n",
        "### 4. **Display the shape** of the resulting matrix to verify the transformation."
      ],
      "metadata": {
        "id": "ClrUWxE-AiKA"
      },
      "id": "ClrUWxE-AiKA"
    },
    {
      "cell_type": "code",
      "execution_count": 20,
      "id": "f038755e-9cdf-4b6d-8edf-30645abfb3f9",
      "metadata": {
        "id": "f038755e-9cdf-4b6d-8edf-30645abfb3f9"
      },
      "outputs": [],
      "source": [
        "# Importing the TfidfVectorizer pre-build library for feature extraction\n",
        "\n",
        "from sklearn.feature_extraction.text import TfidfVectorizer"
      ]
    },
    {
      "cell_type": "code",
      "source": [
        "# Apply TF-IDF vectorization on the text data for the selected 5000 records\n",
        "tfidf_vectorizer_5000 = TfidfVectorizer()\n",
        "tfidf_matrix_5000 = tfidf_vectorizer_5000.fit_transform(df_merged_5000['combined_text'])"
      ],
      "metadata": {
        "id": "uQaSYTUQedRY"
      },
      "id": "uQaSYTUQedRY",
      "execution_count": 21,
      "outputs": []
    },
    {
      "cell_type": "markdown",
      "source": [
        "## **B. Output Interpretation**  \n",
        "### - The TF-IDF matrix has **5,000 job postings** (rows) and **15,791 unique terms** (columns).  \n",
        "### - This matrix serves as a **numerical representation** of job descriptions, enabling **text similarity calculations** for recommendations.\n",
        "\n",
        "### By working with a **smaller dataset**, we can efficiently **test and refine** our recommendation model before scaling it to larger datasets.\n"
      ],
      "metadata": {
        "id": "IQtZWod8AuPL"
      },
      "id": "IQtZWod8AuPL"
    },
    {
      "cell_type": "code",
      "source": [
        "# Print the shape of the TF-IDF matrix to confirm feature extraction\n",
        "print(\"TF-IDF Matrix Shape:\", tfidf_matrix_5000.shape)"
      ],
      "metadata": {
        "id": "UwtmO436ewlr",
        "outputId": "cbc895bc-5e68-4fbf-ef52-f6424f64915a",
        "colab": {
          "base_uri": "https://localhost:8080/"
        }
      },
      "id": "UwtmO436ewlr",
      "execution_count": 22,
      "outputs": [
        {
          "output_type": "stream",
          "name": "stdout",
          "text": [
            "TF-IDF Matrix Shape: (5000, 15557)\n"
          ]
        }
      ]
    },
    {
      "cell_type": "markdown",
      "source": [
        "# **4.2 TF-IDF with Cosine Similarity**  \n",
        "\n",
        "To retrieve the most relevant job postings for a given skill set, we use **TF-IDF (Term Frequency-Inverse Document Frequency)** to represent job descriptions as vectors and **Cosine Similarity** to measure their relevance to the user’s skills.\n",
        "\n",
        "\n",
        "### **A. Why Cosine Similarity?**  \n",
        "- Cosine similarity measures how **similar** two text vectors are by computing the **cosine of the angle** between them.  \n",
        "- It is widely used in **information retrieval and recommendation systems** to rank documents based on their content similarity.  \n",
        "\n",
        "### **B. Implementing the Recommendation System**  \n",
        "\n",
        "### **C. Steps in the Process:**  \n",
        "1. **Preprocess the user input** to ensure consistency with the dataset.  \n",
        "2. **Convert the input into a TF-IDF vector** using the trained `TfidfVectorizer`.  \n",
        "3. **Compute cosine similarity** between the user’s skillset and all job descriptions.  \n",
        "4. **Retrieve the top N most similar jobs**, ranked by similarity scores.  \n",
        "5. **Return job recommendations** with job titles, relevant skills, and similarity scores.\n",
        "\n",
        "\n",
        "### **D. Output Interpretation**  \n",
        "- The system **ranks job postings** based on their similarity to the user’s skills.  \n",
        "- Higher similarity scores indicate **better matches**.  \n",
        "- The retrieved recommendations include:\n",
        "  - **Job Title**\n",
        "  - **Required Skills**\n",
        "  - **Similarity Score**  \n",
        "\n",
        "This method provides a **fast and interpretable way** to recommend jobs based on **textual similarity**, though it does not capture deeper semantic meanings as well as **transformer-based embeddings** like SBERT.\n"
      ],
      "metadata": {
        "id": "aUn01GWFe1Fz"
      },
      "id": "aUn01GWFe1Fz"
    },
    {
      "cell_type": "code",
      "source": [
        "# Importing th cosine_similatrity pre-build library\n",
        "\n",
        "from sklearn.metrics.pairwise import cosine_similarity"
      ],
      "metadata": {
        "id": "LO3b4cKye2F_"
      },
      "id": "LO3b4cKye2F_",
      "execution_count": 23,
      "outputs": []
    },
    {
      "cell_type": "code",
      "source": [
        "# Defining the Recommender System with TF-IDF and Cosine Similarity with 5000 records\n",
        "\n",
        "def recommend_jobs(user_skills, method='tfidf', top_n=5):\n",
        "    # Preprocess user input\n",
        "    user_input = clean_text(user_skills)\n",
        "\n",
        "    if method == 'tfidf':\n",
        "        # Transform user input into TF-IDF space\n",
        "        user_vector = tfidf_vectorizer_5000.transform([user_input])\n",
        "\n",
        "        # Compute cosine similarity\n",
        "        similarities = cosine_similarity(user_vector, tfidf_matrix_5000).flatten()\n",
        "\n",
        "    # Get top N job indices based on similarity\n",
        "    top_indices = similarities.argsort()[-top_n:][::-1]\n",
        "\n",
        "    # Retrieve job recommendations with similarity scores\n",
        "    recommendations = df_merged_5000.iloc[top_indices][['job_title', 'job_skills']].copy()\n",
        "    recommendations['similarity_score'] = similarities[top_indices]  # Add similarity scores\n",
        "\n",
        "    return recommendations"
      ],
      "metadata": {
        "id": "9mi2zYWLe39y"
      },
      "id": "9mi2zYWLe39y",
      "execution_count": 24,
      "outputs": []
    },
    {
      "cell_type": "markdown",
      "source": [
        "# **5. Recommendation System: Job Matching Based on Skills**  \n",
        "\n",
        "In this section, we test the **job recommendation system** by providing a sample **user input (skills)** and retrieving the **top 5 most relevant job postings** based on **cosine similarity with TF-IDF**.\n",
        "\n",
        "\n",
        "### **5.1 Testing the Recommender System**  \n",
        "- The user enters **\"Dental Surgery\"** as the skill set.  \n",
        "- The system processes the input and retrieves **the top 5 job matches**.  \n",
        "- Each recommended job is ranked based on **similarity scores**.\n",
        "\n",
        "\n",
        "### **5.2 Output Interpretation**  \n",
        "The table displays:  \n",
        "- **Job Title** – The recommended job title.  \n",
        "- **Job Skills** – Relevant skills associated with the job.  \n",
        "- **Similarity Score** – A numerical value indicating how closely the job matches the user's input.\n",
        "\n",
        "#### **5.3 Observations from the Output:**  \n",
        "- Jobs related to **surgery, dentistry, and healthcare** are retrieved.  \n",
        "- Higher similarity scores indicate **better matches** (e.g., Oral Surgeon and General Dentist).  \n",
        "- Some **non-dental jobs** appear, suggesting that **TF-IDF alone may not fully capture contextual meaning**.\n",
        "\n",
        "\n",
        "### **5.4 Evaluating Recommendation Accuracy**  \n",
        "- **Precision@K** is used to measure how often the correct job appears in the **top K recommendations**.  \n",
        "- If a recommended job is a **direct or highly relevant match**, it is considered correct.  \n",
        "- The **final precision score** helps assess the **effectiveness of the TF-IDF-based model**.\n",
        "\n",
        "\n",
        "- ✔ **TF-IDF with Cosine Similarity provides reasonable job recommendations**.  \n",
        "-✔ **Some irrelevant results highlight the limitations of keyword-based similarity**.  \n",
        "- ✔ **Using more advanced embeddings (e.g., SBERT) could improve contextual accuracy**.  \n"
      ],
      "metadata": {
        "id": "5thw9Zj7e7Hi"
      },
      "id": "5thw9Zj7e7Hi"
    },
    {
      "cell_type": "code",
      "source": [
        "# Example usage with a sample skill input\n",
        "user_skills = \"Dental Surgery\"\n",
        "recommendations = recommend_jobs(user_skills, method='tfidf')\n",
        "\n",
        "# Display recommendations with similarity scores\n",
        "print(recommendations)"
      ],
      "metadata": {
        "id": "yvw3dMyqe7-s",
        "outputId": "a01eed89-01b9-4714-c338-9208613650ec",
        "colab": {
          "base_uri": "https://localhost:8080/"
        }
      },
      "id": "yvw3dMyqe7-s",
      "execution_count": 25,
      "outputs": [
        {
          "output_type": "stream",
          "name": "stdout",
          "text": [
            "                                                 job_title  \\\n",
            "120252   CSA - Certified Surgical Assistant - Cardiac -...   \n",
            "309128                                                  RN   \n",
            "773309   10ES Registered Nurse - ENT/Gyne/Urology/Plastics   \n",
            "743414                                            Dentists   \n",
            "1109673                    Outpatient Surgery Veterinarian   \n",
            "\n",
            "                                                job_skills  similarity_score  \n",
            "120252   Suturing, Surgical instrumentation, Patient po...          0.712563  \n",
            "309128   Nursing, Operating Room, Neuro Surgery, Client...          0.660768  \n",
            "773309   Nursing, Surgical Oncology, Airway Management,...          0.423656  \n",
            "743414   General Dentistry, Root Canal, Molar Extractio...          0.389755  \n",
            "1109673  Veterinary Medicine, Surgery, Dentistry, Conti...          0.383614  \n"
          ]
        }
      ]
    },
    {
      "cell_type": "markdown",
      "source": [
        "# **6. Evaluating Model Performance: Precision@5**  \n",
        "\n",
        "To measure how effectively the **job recommendation system** retrieves relevant job postings, we use **Precision@5**, a common metric in ranking-based recommendations.\n",
        "\n",
        "\n",
        "### **6.1 What is Precision@5?**  \n",
        "- Precision@5 measures the fraction of **correctly recommended jobs** in the **top 5 predictions**.  \n",
        "- A recommendation is considered correct if:\n",
        "  - The **actual job title** appears in the top 5 recommended jobs, or  \n",
        "  - The **cosine similarity score** between the actual job and a recommended job **exceeds 0.5**.  \n",
        "\n",
        "The **Precision@5 score** is computed as:\n",
        "\n",
        "$$\n",
        "\\text{Precision@5} = \\frac{\\text{Number of Correct Predictions in Top 5}}{\\text{Total Test Records}}\n",
        "$$\n",
        "\n",
        "\n",
        "### **6.2 How the Function Works**  \n",
        "1. **Validate the test dataset** to ensure required columns (`job_title`, `job_skills`) exist.  \n",
        "2. **Loop through each test job** and retrieve recommendations using `recommend_jobs()`.  \n",
        "3. **Compare actual job titles with recommendations**:\n",
        "   - Check for **exact title matches**.  \n",
        "   - Compute **cosine similarity** between the actual job title and each recommended title.  \n",
        "   - If **similarity > 0.5**, consider it a correct match.  \n",
        "4. **Count correct predictions** and compute the **final Precision@5 score**.  \n",
        "\n",
        "\n",
        "### **6.3 Output Interpretation**  \n",
        "- **Precision@5 Score:** `0.41`  \n",
        "- This means **41% of test job queries** had a correct job in the **top 5 recommendations**.  \n",
        "- A **higher score** indicates a **better recommendation system**.  \n",
        "\n",
        "\n",
        "- ✔ **The system successfully retrieves relevant job matches, but accuracy can be improved.**  \n",
        "- ✔ **Lower-than-expected Precision@5 may indicate limitations in TF-IDF-based matching.**  \n",
        "- ✔ **Using more advanced models like SBERT or fine-tuned embeddings could enhance contextual understanding.**  \n",
        "\n",
        "By analyzing **Precision@5**, we can determine areas for improvement and refine the recommendation approach.\n"
      ],
      "metadata": {
        "id": "mVFbTg9afDnv"
      },
      "id": "mVFbTg9afDnv"
    },
    {
      "cell_type": "code",
      "source": [
        "# Defining the function to test the test_data for each row, and then calculate the precision based on given formula, using 5000 records.\n",
        "\n",
        "def precision_at_5(test_data, threshold=0.5):\n",
        "    # Validate columns\n",
        "    required_columns = ['job_title', 'job_skills']\n",
        "    for col in required_columns:\n",
        "        if col not in test_data.columns:\n",
        "            raise KeyError(f\"Missing column: '{col}' in test_data\")\n",
        "\n",
        "    correct_predictions = 0\n",
        "    total_tests = len(test_data)\n",
        "\n",
        "    for index, row in test_data.iterrows():\n",
        "        actual_job_title = row['job_title']\n",
        "        user_skills = row['job_skills']\n",
        "        # Get job recommendations for the given user skills\n",
        "        recommendations = recommend_jobs(user_skills, method='tfidf', top_n=5)\n",
        "\n",
        "        matched = False\n",
        "        for rec_title in recommendations['job_title']:\n",
        "          # Compute similarity between actual job title and recommended job titles\n",
        "            sim_score = cosine_similarity(\n",
        "                tfidf_vectorizer_5000.transform([actual_job_title]),\n",
        "                tfidf_vectorizer_5000.transform([rec_title])\n",
        "            )[0][0]\n",
        "            # If the exact title matches or similarity exceeds the threshold, count it as correct\n",
        "            if actual_job_title == rec_title or sim_score > threshold:\n",
        "                matched = True\n",
        "                break\n",
        "\n",
        "        if matched:\n",
        "            correct_predictions += 1\n",
        "    # Calculate precision@5\n",
        "    precision_at_5 = correct_predictions / total_tests\n",
        "    return round(precision_at_5, 4)"
      ],
      "metadata": {
        "id": "hS0WrfUbe9wq"
      },
      "id": "hS0WrfUbe9wq",
      "execution_count": 26,
      "outputs": []
    },
    {
      "cell_type": "code",
      "source": [
        "# Compute precision@5 for the 5000-record dataset\n",
        "precision_score_5000 = precision_at_5(test_data)\n",
        "print(\"Precision@5 Score:\", precision_score_5000)"
      ],
      "metadata": {
        "id": "hCkEUIm3fHBb",
        "outputId": "46e55854-ecbf-49b3-ee69-962815883532",
        "colab": {
          "base_uri": "https://localhost:8080/"
        }
      },
      "id": "hCkEUIm3fHBb",
      "execution_count": 27,
      "outputs": [
        {
          "output_type": "stream",
          "name": "stdout",
          "text": [
            "Precision@5 Score: 0.4\n"
          ]
        }
      ]
    },
    {
      "cell_type": "markdown",
      "source": [
        "# **Second Section: Running the Recommendation System on the Full Dataset**  "
      ],
      "metadata": {
        "id": "950kiusQeWKX"
      },
      "id": "950kiusQeWKX"
    },
    {
      "cell_type": "markdown",
      "source": [
        "# **1. TF-IDF**"
      ],
      "metadata": {
        "id": "XMgZy0WwGgeQ"
      },
      "id": "XMgZy0WwGgeQ"
    },
    {
      "cell_type": "code",
      "execution_count": 28,
      "id": "5af66a5b-ff77-4264-a173-37790f7b4a1a",
      "metadata": {
        "id": "5af66a5b-ff77-4264-a173-37790f7b4a1a"
      },
      "outputs": [],
      "source": [
        "# Apply TF-IDF vectorization on the full dataset\n",
        "tfidf_vectorizer = TfidfVectorizer()\n",
        "tfidf_matrix = tfidf_vectorizer.fit_transform(df_merged['combined_text'])"
      ]
    },
    {
      "cell_type": "code",
      "execution_count": 29,
      "id": "5191bcdf-0306-4a9d-84cf-57f0e5a89295",
      "metadata": {
        "colab": {
          "base_uri": "https://localhost:8080/"
        },
        "id": "5191bcdf-0306-4a9d-84cf-57f0e5a89295",
        "outputId": "4ecdb6ac-b048-40c6-e3af-3e220c514819"
      },
      "outputs": [
        {
          "output_type": "stream",
          "name": "stdout",
          "text": [
            "TF-IDF Matrix Shape: (1290930, 260160)\n"
          ]
        }
      ],
      "source": [
        "# Print the shape of the TF-IDF matrix to confirm feature extraction\n",
        "print(\"TF-IDF Matrix Shape:\", tfidf_matrix.shape)"
      ]
    },
    {
      "cell_type": "markdown",
      "id": "2c9f9f71-2076-4fab-b33c-9ec1786dbf80",
      "metadata": {
        "id": "2c9f9f71-2076-4fab-b33c-9ec1786dbf80"
      },
      "source": [
        "# **2. TF-IDF with Cosine_Similarity**"
      ]
    },
    {
      "cell_type": "code",
      "execution_count": 30,
      "id": "8fc7b8e7-29f2-4ac2-a64c-324da23c144c",
      "metadata": {
        "id": "8fc7b8e7-29f2-4ac2-a64c-324da23c144c"
      },
      "outputs": [],
      "source": [
        "# Defining the recommender system using TF-IDF and cosine similarity for the full dataset\n",
        "\n",
        "def recommend_jobs(user_skills, method='tfidf', top_n=5):\n",
        "    # Preprocess user input\n",
        "    user_input = clean_text(user_skills)\n",
        "\n",
        "    if method == 'tfidf':\n",
        "        # Transform user input into TF-IDF space\n",
        "        user_vector = tfidf_vectorizer.transform([user_input])\n",
        "\n",
        "        # Compute cosine similarity\n",
        "        similarities = cosine_similarity(user_vector, tfidf_matrix).flatten()\n",
        "\n",
        "    # Get top N job indices based on similarity\n",
        "    top_indices = similarities.argsort()[-top_n:][::-1]\n",
        "\n",
        "    # Retrieve job recommendations with similarity scores\n",
        "    recommendations = df_merged.iloc[top_indices][['job_title', 'job_skills']].copy()\n",
        "    recommendations['similarity_score'] = similarities[top_indices]  # Add similarity scores\n",
        "\n",
        "    return recommendations"
      ]
    },
    {
      "cell_type": "markdown",
      "id": "701b0634-fc3c-492d-b4cb-fda6a89e83cd",
      "metadata": {
        "id": "701b0634-fc3c-492d-b4cb-fda6a89e83cd"
      },
      "source": [
        "# <h3 style=\"color:blue;\"> **3. Recommendation System** </h3>"
      ]
    },
    {
      "cell_type": "markdown",
      "id": "c2a1df6f-e591-4e92-b95d-54b2a7e11788",
      "metadata": {
        "id": "c2a1df6f-e591-4e92-b95d-54b2a7e11788"
      },
      "source": [
        "###### Testing Recommender System (Find the actual job in the top5 using exact match.)"
      ]
    },
    {
      "cell_type": "code",
      "execution_count": 31,
      "id": "ec95f043-3287-4e27-bb10-75b91523ea13",
      "metadata": {
        "colab": {
          "base_uri": "https://localhost:8080/"
        },
        "id": "ec95f043-3287-4e27-bb10-75b91523ea13",
        "outputId": "79dc5bd3-ceac-44c8-82ec-6737d59da4d2"
      },
      "outputs": [
        {
          "output_type": "stream",
          "name": "stdout",
          "text": [
            "                                            job_title  \\\n",
            "999935                                      Surg Tech   \n",
            "85815            Registered Nurse (RN)-Operating Room   \n",
            "268741                            Surgical Technician   \n",
            "729278  Certified Registered Nurse Anesthetist (CRNA)   \n",
            "267565                 Anesthesiologist (ANES) Locums   \n",
            "\n",
            "                                               job_skills  similarity_score  \n",
            "999935  Surgical Technology, EPIC, General Surgery, GY...          0.770690  \n",
            "85815   Robotics, Pediatrics, Urology, Nursing, Patien...          0.741812  \n",
            "268741  Surgical Technician, Patient Care, Equipment M...          0.720098  \n",
            "729278  Nurse Anesthesia, Surgical Procedures, Nursing...          0.716647  \n",
            "267565  General Surgery, GYN Surgery, ENT Surgery, Uro...          0.713267  \n"
          ]
        }
      ],
      "source": [
        "# Example usage with a sample skill input\n",
        "user_skills = \"Dental Surgery\"\n",
        "recommendations = recommend_jobs(user_skills, method='tfidf')\n",
        "\n",
        "# Display recommendations with similarity scores\n",
        "print(recommendations)"
      ]
    },
    {
      "cell_type": "markdown",
      "id": "8e3ce9ae-7b8b-4893-a830-8a56179e850c",
      "metadata": {
        "id": "8e3ce9ae-7b8b-4893-a830-8a56179e850c"
      },
      "source": [
        "# <h3 style=\"color:blue;\"> **4. Evaluation: Precision@K** </h3>"
      ]
    },
    {
      "cell_type": "markdown",
      "id": "0d69b1a1-ed47-4213-90e1-644febc9fbdd",
      "metadata": {
        "id": "0d69b1a1-ed47-4213-90e1-644febc9fbdd"
      },
      "source": [
        "##### Defining the functions to calculate precision on test data, Compute the cosine_similarity between the actual job and each of the top5 jobs, and use MATCH_THRESHOLD = 0.5"
      ]
    },
    {
      "cell_type": "code",
      "execution_count": 32,
      "id": "63519cf9-1985-48f6-ba0a-0c9b5b52226d",
      "metadata": {
        "id": "63519cf9-1985-48f6-ba0a-0c9b5b52226d"
      },
      "outputs": [],
      "source": [
        "# Defining the function to test the test_data for each row, and then calculate the precision based on given formula, for the full dataset.\n",
        "\n",
        "def precision_at_5(test_data, threshold=0.5):\n",
        "    # Validate columns\n",
        "    required_columns = ['job_title', 'job_skills']\n",
        "    for col in required_columns:\n",
        "        if col not in test_data.columns:\n",
        "            raise KeyError(f\"Missing column: '{col}' in test_data\")\n",
        "\n",
        "    correct_predictions = 0\n",
        "    total_tests = len(test_data)\n",
        "\n",
        "    for index, row in test_data.iterrows():\n",
        "        actual_job_title = row['job_title']\n",
        "        user_skills = row['job_skills']\n",
        "        # Get job recommendations for the given user skills\n",
        "        recommendations = recommend_jobs(user_skills, method='tfidf', top_n=5)\n",
        "\n",
        "        matched = False\n",
        "        for rec_title in recommendations['job_title']:\n",
        "          # Compute similarity between actual job title and recommended job titles\n",
        "            sim_score = cosine_similarity(\n",
        "                tfidf_vectorizer.transform([actual_job_title]),\n",
        "                tfidf_vectorizer.transform([rec_title])\n",
        "            )[0][0]\n",
        "            # If the exact title matches or similarity exceeds the threshold, count it as correct\n",
        "            if actual_job_title == rec_title or sim_score > threshold:\n",
        "                matched = True\n",
        "                break\n",
        "\n",
        "        if matched:\n",
        "            correct_predictions += 1\n",
        "    # Calculate precision@5\n",
        "    precision_at_5 = correct_predictions / total_tests\n",
        "    return round(precision_at_5, 4)"
      ]
    },
    {
      "cell_type": "code",
      "execution_count": 33,
      "id": "e4e164cf-a572-46a9-90e1-3c278cf9d8c0",
      "metadata": {
        "colab": {
          "base_uri": "https://localhost:8080/"
        },
        "id": "e4e164cf-a572-46a9-90e1-3c278cf9d8c0",
        "outputId": "a68f3504-fde4-4cd1-9244-d7ef24d6a6f5"
      },
      "outputs": [
        {
          "output_type": "stream",
          "name": "stdout",
          "text": [
            "Precision@5 Score (TF-IDF): 0.98\n"
          ]
        }
      ],
      "source": [
        "# Compute precision@5 for the full dataset\n",
        "precision_score = precision_at_5(test_data)\n",
        "print(\"Precision@5 Score (TF-IDF):\", precision_score)"
      ]
    },
    {
      "cell_type": "markdown",
      "id": "cba4d3b9-daf1-42c1-b04e-3c103c5f1dac",
      "metadata": {
        "id": "cba4d3b9-daf1-42c1-b04e-3c103c5f1dac"
      },
      "source": [
        "<h3 style=\"color:blue;\"> 6. Conclusion </h3>"
      ]
    },
    {
      "cell_type": "markdown",
      "source": [
        "The **TF-IDF** method was used for feature extraction and **Cosine Similarity** for matching, achieving a **Precision@5 score of 0.98**, indicating highly accurate recommendations on the current dataset. Optimized data preprocessing and efficient merging of job titles with skills enhanced the method performance, making it scalable.  \n",
        "\n",
        " **TF-IDF** demonstrated efficiency in keyword-based recommendations but may be less effective when exact keyword matches are unavailable, as it does not cover complex NLP tasks like semantic search.  \n",
        "\n",
        "The impact of dataset size on matching accuracy was evaluated using two sets: a small sample (5,000 records) and the full dataset. As the dataset size increased, **TF-IDF** captured more diverse linguistic patterns, leading to improved similarity calculations. In contrast, when data was limited, the model struggled with accurate matching due to less diverse term distributions, affecting recommendation quality.  \n",
        "\n",
        "Overall, the method showed strong performance in mapping skills to jobs when sufficient data was available, reinforcing its potential as a practical job recommendation system."
      ],
      "metadata": {
        "id": "mbeSkJu-XV_t"
      },
      "id": "mbeSkJu-XV_t"
    }
  ],
  "metadata": {
    "kernelspec": {
      "display_name": "Python 3",
      "name": "python3"
    },
    "language_info": {
      "codemirror_mode": {
        "name": "ipython",
        "version": 3
      },
      "file_extension": ".py",
      "mimetype": "text/x-python",
      "name": "python",
      "nbconvert_exporter": "python",
      "pygments_lexer": "ipython3",
      "version": "3.9.19"
    },
    "colab": {
      "provenance": [],
      "gpuType": "T4"
    },
    "accelerator": "GPU"
  },
  "nbformat": 4,
  "nbformat_minor": 5
}